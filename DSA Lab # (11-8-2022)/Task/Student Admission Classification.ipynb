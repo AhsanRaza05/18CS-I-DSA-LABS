{
 "cells": [
  {
   "cell_type": "code",
   "execution_count": 1,
   "id": "65517a82",
   "metadata": {},
   "outputs": [],
   "source": [
    "import numpy as np\n",
    "import pandas as pd\n",
    "import matplotlib.pyplot as plt\n",
    "from sklearn.model_selection import train_test_split\n",
    "from sklearn.linear_model import LogisticRegression\n",
    "from sklearn.metrics import classification_report, confusion_matrix"
   ]
  },
  {
   "cell_type": "code",
   "execution_count": 32,
   "id": "7881f338",
   "metadata": {},
   "outputs": [
    {
     "data": {
      "text/plain": [
       "<pandas.core.indexing._iLocIndexer at 0x128670a1040>"
      ]
     },
     "execution_count": 32,
     "metadata": {},
     "output_type": "execute_result"
    }
   ],
   "source": [
    "db = pd.read_csv('studentadmission.csv');\n",
    "db.iloc(1)"
   ]
  },
  {
   "cell_type": "code",
   "execution_count": 28,
   "id": "c11aa045",
   "metadata": {},
   "outputs": [
    {
     "name": "stdout",
     "output_type": "stream",
     "text": [
      "yes\n",
      "yes\n",
      "yes\n",
      "yes\n",
      "no\n",
      "no\n",
      "yes\n",
      "no\n",
      "no\n",
      "no\n"
     ]
    }
   ],
   "source": [
    "# Encoding the admitted (target variabel)\n",
    "\n",
    "# Yes ---> 0\n",
    "# No ----> 1\n",
    "\n",
    "label = []\n",
    "j = 0\n",
    "for i in db['admitted']:\n",
    "    print(i)\n",
    "    \n",
    "    if i == 'yes':\n",
    "        label.append(1)\n",
    "    else:\n",
    "        label.append(0)\n",
    "        \n",
    "    j = j + 1\n",
    "    \n",
    "db['label'] = label    "
   ]
  },
  {
   "cell_type": "code",
   "execution_count": 36,
   "id": "43ae35c5",
   "metadata": {},
   "outputs": [],
   "source": [
    "en_db = db[['score', 'label']]"
   ]
  },
  {
   "cell_type": "code",
   "execution_count": 101,
   "id": "73ba8c1a",
   "metadata": {},
   "outputs": [
    {
     "data": {
      "text/html": [
       "<div>\n",
       "<style scoped>\n",
       "    .dataframe tbody tr th:only-of-type {\n",
       "        vertical-align: middle;\n",
       "    }\n",
       "\n",
       "    .dataframe tbody tr th {\n",
       "        vertical-align: top;\n",
       "    }\n",
       "\n",
       "    .dataframe thead th {\n",
       "        text-align: right;\n",
       "    }\n",
       "</style>\n",
       "<table border=\"1\" class=\"dataframe\">\n",
       "  <thead>\n",
       "    <tr style=\"text-align: right;\">\n",
       "      <th></th>\n",
       "      <th>score</th>\n",
       "      <th>admitted</th>\n",
       "      <th>label</th>\n",
       "    </tr>\n",
       "  </thead>\n",
       "  <tbody>\n",
       "    <tr>\n",
       "      <th>0</th>\n",
       "      <td>63</td>\n",
       "      <td>yes</td>\n",
       "      <td>1</td>\n",
       "    </tr>\n",
       "    <tr>\n",
       "      <th>1</th>\n",
       "      <td>65</td>\n",
       "      <td>yes</td>\n",
       "      <td>1</td>\n",
       "    </tr>\n",
       "    <tr>\n",
       "      <th>2</th>\n",
       "      <td>70</td>\n",
       "      <td>yes</td>\n",
       "      <td>1</td>\n",
       "    </tr>\n",
       "    <tr>\n",
       "      <th>3</th>\n",
       "      <td>71</td>\n",
       "      <td>yes</td>\n",
       "      <td>1</td>\n",
       "    </tr>\n",
       "    <tr>\n",
       "      <th>4</th>\n",
       "      <td>53</td>\n",
       "      <td>no</td>\n",
       "      <td>0</td>\n",
       "    </tr>\n",
       "    <tr>\n",
       "      <th>5</th>\n",
       "      <td>12</td>\n",
       "      <td>no</td>\n",
       "      <td>0</td>\n",
       "    </tr>\n",
       "    <tr>\n",
       "      <th>6</th>\n",
       "      <td>54</td>\n",
       "      <td>yes</td>\n",
       "      <td>1</td>\n",
       "    </tr>\n",
       "    <tr>\n",
       "      <th>7</th>\n",
       "      <td>52</td>\n",
       "      <td>no</td>\n",
       "      <td>0</td>\n",
       "    </tr>\n",
       "    <tr>\n",
       "      <th>8</th>\n",
       "      <td>25</td>\n",
       "      <td>no</td>\n",
       "      <td>0</td>\n",
       "    </tr>\n",
       "    <tr>\n",
       "      <th>9</th>\n",
       "      <td>31</td>\n",
       "      <td>no</td>\n",
       "      <td>0</td>\n",
       "    </tr>\n",
       "  </tbody>\n",
       "</table>\n",
       "</div>"
      ],
      "text/plain": [
       "   score admitted  label\n",
       "0     63      yes      1\n",
       "1     65      yes      1\n",
       "2     70      yes      1\n",
       "3     71      yes      1\n",
       "4     53       no      0\n",
       "5     12       no      0\n",
       "6     54      yes      1\n",
       "7     52       no      0\n",
       "8     25       no      0\n",
       "9     31       no      0"
      ]
     },
     "execution_count": 101,
     "metadata": {},
     "output_type": "execute_result"
    }
   ],
   "source": [
    "db\n",
    "# en_db"
   ]
  },
  {
   "cell_type": "code",
   "execution_count": 112,
   "id": "fa2ae16d",
   "metadata": {},
   "outputs": [
    {
     "data": {
      "text/plain": [
       "array([[63],\n",
       "       [65],\n",
       "       [70],\n",
       "       [71],\n",
       "       [53],\n",
       "       [12],\n",
       "       [54],\n",
       "       [52],\n",
       "       [25],\n",
       "       [31]], dtype=int64)"
      ]
     },
     "execution_count": 112,
     "metadata": {},
     "output_type": "execute_result"
    }
   ],
   "source": [
    "# # en_db.columns = [\"\", \"\"]\n",
    "\n",
    "# x_data = en_db.iloc[:,:1]\n",
    "\n",
    "# labels = en_db.iloc[:,1:2]\n",
    "\n",
    "# labels\n",
    "\n",
    "# en_db.columns = [\"\", \"\"]\n",
    "\n",
    "x_data = db.score.to_numpy()\n",
    "\n",
    "labels = db.label.to_numpy()\n",
    "\n",
    "x_data = x_data.reshape(-1, 1)\n",
    "\n",
    "x_data\n",
    "\n",
    "# type(x_data)"
   ]
  },
  {
   "cell_type": "code",
   "execution_count": 134,
   "id": "791cf974",
   "metadata": {},
   "outputs": [],
   "source": [
    "x_train, x_test, y_train, y_test = train_test_split(x_data, labels, test_size = 0.2\n",
    "                                                    , random_state = 0)"
   ]
  },
  {
   "cell_type": "code",
   "execution_count": 135,
   "id": "2c174ea0",
   "metadata": {},
   "outputs": [],
   "source": [
    "model = LogisticRegression(solver = \"liblinear\", random_state = 0)\n",
    "\n",
    "H = model.fit(x_train, y_train)"
   ]
  },
  {
   "cell_type": "code",
   "execution_count": 136,
   "id": "0d40f057",
   "metadata": {},
   "outputs": [
    {
     "name": "stdout",
     "output_type": "stream",
     "text": [
      "Logistic Regression Model Intercept (m):  [-0.75245462]\n",
      "Logistic Regression Model Coefficient (c):  [[0.02283997]]\n"
     ]
    }
   ],
   "source": [
    "print(\"Logistic Regression Model Intercept (m): \", model.intercept_)\n",
    "\n",
    "print(\"Logistic Regression Model Coefficient (c): \", model.coef_)"
   ]
  },
  {
   "cell_type": "code",
   "execution_count": 137,
   "id": "c9541d8a",
   "metadata": {},
   "outputs": [
    {
     "name": "stdout",
     "output_type": "stream",
     "text": [
      "[1 0]\n"
     ]
    }
   ],
   "source": [
    "y_predict = model.predict(x_test)\n",
    "print(y_predict)"
   ]
  },
  {
   "cell_type": "code",
   "execution_count": 147,
   "id": "8db34bec",
   "metadata": {},
   "outputs": [
    {
     "name": "stdout",
     "output_type": "stream",
     "text": [
      "Yes\n",
      "No\n"
     ]
    }
   ],
   "source": [
    "for i in y_predict:\n",
    "    \n",
    "    if i == 1:\n",
    "        print(\"Yes\")\n",
    "    else:\n",
    "       print(\"No\")"
   ]
  },
  {
   "cell_type": "code",
   "execution_count": 139,
   "id": "3e499e74",
   "metadata": {},
   "outputs": [
    {
     "data": {
      "text/plain": [
       "Text(0.5, 1.0, 'Logistic Regression Model')"
      ]
     },
     "execution_count": 139,
     "metadata": {},
     "output_type": "execute_result"
    },
    {
     "data": {
      "image/png": "[encoded data removed]",
      "text/plain": [
       "<Figure size 432x288 with 1 Axes>"
      ]
     },
     "metadata": {
      "needs_background": "light"
     },
     "output_type": "display_data"
    }
   ],
   "source": [
    "# Scatter plot for Logistic Regression Model\n",
    "\n",
    "colors = {0:'red', 1:'blue'}\n",
    "def sigmoid(x):\n",
    "    return (1 / (1 +np.exp(-(model.intercept_[0] +(model.coef_[0][0] * x)))))\n",
    "x1 = np.arange(np.min(x_train), np.max(x_train), 0.01)\n",
    "y1 = [sigmoid(n) for n in x1]\n",
    "plt.scatter(x_train,y_train,facecolors='none',edgecolors=pd.DataFrame(cancer.target)[0].apply(lambda x_train:colors[x_train]),cmap=colors)\n",
    "plt.plot(x1,y1)\n",
    "plt.xlabel(\"Mean Radius\")\n",
    "plt.ylabel(\"Probability\")\n",
    "plt.title('Logistic Regression Model')"
   ]
  },
  {
   "cell_type": "code",
   "execution_count": 128,
   "id": "19b42d6a",
   "metadata": {},
   "outputs": [
    {
     "data": {
      "text/plain": [
       "array([[54],\n",
       "       [52],\n",
       "       [71],\n",
       "       [63],\n",
       "       [12]], dtype=int64)"
      ]
     },
     "execution_count": 128,
     "metadata": {},
     "output_type": "execute_result"
    }
   ],
   "source": [
    "x_train"
   ]
  },
  {
   "cell_type": "code",
   "execution_count": 140,
   "id": "62f391a8",
   "metadata": {},
   "outputs": [
    {
     "name": "stdout",
     "output_type": "stream",
     "text": [
      "\n",
      "Prediction Probability : \n",
      " [[0.30020044 0.69979956]\n",
      " [0.54523976 0.45476024]]\n",
      "\n",
      "Prediction :  [1 0]\n",
      "\n",
      "Score :  1.0\n"
     ]
    }
   ],
   "source": [
    "# Evaluate the Model\n",
    "\n",
    "print(\"\\nPrediction Probability : \\n\",model.predict_proba(x_test))\n",
    "\n",
    "print(\"\\nPrediction : \",model.predict(x_test))\n",
    "\n",
    "print(\"\\nScore : \",model.score(x_test, y_test))"
   ]
  },
  {
   "cell_type": "code",
   "execution_count": 142,
   "id": "167cf8e7",
   "metadata": {},
   "outputs": [
    {
     "name": "stdout",
     "output_type": "stream",
     "text": [
      "\n",
      "Confusion Matrix : \n",
      " [[1 0]\n",
      " [0 1]]\n"
     ]
    }
   ],
   "source": [
    "# Print Confusion Matrix\n",
    "\n",
    "print(\"\\nConfusion Matrix : \\n\",confusion_matrix(y_test, model.predict(x_test)))"
   ]
  },
  {
   "cell_type": "code",
   "execution_count": 144,
   "id": "8be60e4c",
   "metadata": {},
   "outputs": [
    {
     "data": {
      "image/png": "[encoded data removed]",
      "text/plain": [
       "<Figure size 720x504 with 2 Axes>"
      ]
     },
     "metadata": {
      "needs_background": "light"
     },
     "output_type": "display_data"
    }
   ],
   "source": [
    "# Plot Confusion Matrix \n",
    "\n",
    "cm = confusion_matrix(y_test, model.predict(x_test))\n",
    "\n",
    "import seaborn as sn\n",
    "import pandas as pd\n",
    "\n",
    "df_cm = pd.DataFrame(cm, range(2), range(2))\n",
    "plt.figure(figsize=(10,7))\n",
    "sn.set(font_scale=1.4) # for label size\n",
    "sn.heatmap(df_cm, annot=True, annot_kws={\"size\": 16}) # font size\n",
    "\n",
    "plt.show()\n"
   ]
  },
  {
   "cell_type": "code",
   "execution_count": 146,
   "id": "9fd97268",
   "metadata": {},
   "outputs": [
    {
     "name": "stdout",
     "output_type": "stream",
     "text": [
      "              precision    recall  f1-score   support\n",
      "\n",
      "           0       1.00      1.00      1.00         1\n",
      "           1       1.00      1.00      1.00         1\n",
      "\n",
      "    accuracy                           1.00         2\n",
      "   macro avg       1.00      1.00      1.00         2\n",
      "weighted avg       1.00      1.00      1.00         2\n",
      "\n"
     ]
    }
   ],
   "source": [
    "# Print Classification Report\n",
    "\n",
    "print(classification_report(y_test, model.predict(x_test)))"
   ]
  },
  {
   "cell_type": "code",
   "execution_count": null,
   "id": "bdd8a41e",
   "metadata": {},
   "outputs": [],
   "source": []
  }
 ],
 "metadata": {
  "kernelspec": {
   "display_name": "Python 3",
   "language": "python",
   "name": "python3"
  },
  "language_info": {
   "codemirror_mode": {
    "name": "ipython",
    "version": 3
   },
   "file_extension": ".py",
   "mimetype": "text/x-python",
   "name": "python",
   "nbconvert_exporter": "python",
   "pygments_lexer": "ipython3",
   "version": "3.8.8"
  }
 },
 "nbformat": 4,
 "nbformat_minor": 5
}
